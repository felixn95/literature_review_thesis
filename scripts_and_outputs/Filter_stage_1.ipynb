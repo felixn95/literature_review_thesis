{
 "cells": [
  {
   "cell_type": "code",
   "id": "initial_id",
   "metadata": {
    "collapsed": true,
    "ExecuteTime": {
     "end_time": "2024-12-06T11:12:10.758822Z",
     "start_time": "2024-12-06T11:12:10.543141Z"
    }
   },
   "source": [
    "import pandas as pd\n",
    "\n",
    "# read in the data stage_1_results_final.xlsx\n",
    "df = pd.read_excel('stage_1_results_final.xlsx')\n",
    "\n",
    "# only select rows with REVIEW_STAGE column == MAYBE_RELEVANT\n",
    "df = df[df['Review_Stage'] == 'MAYBE_RELEVANT']\n",
    "\n",
    "\n",
    "# create a new column \"DIMENSION\" as second column in the dataframe\n",
    "df.insert(1, 'DIMENSION', 'None')\n",
    "\n",
    "# fill the DIMENSION column with the value \"UNSPECIFIED\" for now\n",
    "df['DIMENSION'] = 'UNSPECIFIED'\n",
    "\n",
    "# save the dataframe to a new Excel file\n",
    "df.to_excel('stage_1_analysis_.xlsx', index=False)"
   ],
   "outputs": [],
   "execution_count": 2
  },
  {
   "metadata": {
    "ExecuteTime": {
     "end_time": "2024-12-09T10:33:10.101249Z",
     "start_time": "2024-12-09T10:33:09.962153Z"
    }
   },
   "cell_type": "code",
   "source": [
    "import pandas as pd\n",
    "\n",
    "# Datei einlesen\n",
    "with open(\"papers_list.txt\", \"r\") as file:\n",
    "    papers = file.read().splitlines()  # Jede Zeile als Listenelement\n",
    "\n",
    "# DataFrame erstellen\n",
    "df = pd.DataFrame({\n",
    "    \"Paper\": papers,      # Spalte mit Paper-Titeln\n",
    "    \"Dimension\": \"\",      # Leere Spalte\n",
    "    \"Notes\": \"\"           # Leere Spalte\n",
    "})\n",
    "\n",
    "# DataFrame als Excel speichern\n",
    "output_file = \"papers_with_metadata.xlsx\"\n",
    "df.to_excel(output_file, index=False)\n",
    "\n",
    "print(f\"Excel-Datei erfolgreich erstellt: {output_file}\")\n",
    "\n"
   ],
   "id": "b386f8e50fd1f0e0",
   "outputs": [
    {
     "name": "stdout",
     "output_type": "stream",
     "text": [
      "Excel-Datei erfolgreich erstellt: papers_with_metadata.xlsx\n"
     ]
    }
   ],
   "execution_count": 3
  },
  {
   "metadata": {},
   "cell_type": "code",
   "outputs": [],
   "execution_count": null,
   "source": "",
   "id": "be4a2d016d68e7de"
  }
 ],
 "metadata": {
  "kernelspec": {
   "display_name": "Python 3",
   "language": "python",
   "name": "python3"
  },
  "language_info": {
   "codemirror_mode": {
    "name": "ipython",
    "version": 2
   },
   "file_extension": ".py",
   "mimetype": "text/x-python",
   "name": "python",
   "nbconvert_exporter": "python",
   "pygments_lexer": "ipython2",
   "version": "2.7.6"
  }
 },
 "nbformat": 4,
 "nbformat_minor": 5
}
