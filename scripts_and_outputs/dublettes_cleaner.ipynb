{
 "cells": [
  {
   "cell_type": "code",
   "id": "initial_id",
   "metadata": {
    "collapsed": true,
    "ExecuteTime": {
     "end_time": "2024-11-27T15:45:59.068753Z",
     "start_time": "2024-11-27T15:45:58.937434Z"
    }
   },
   "source": [
    "import pandas as pd\n",
    "\n",
    "# Load the Excel file\n",
    "file_path = \"combined_results_final.xlsx\"\n",
    "df = pd.read_excel(file_path)\n",
    "\n",
    "# Identify duplicates based on the DOI column\n",
    "duplicates = df[df.duplicated(subset='DOI', keep=False)]\n",
    "\n",
    "# Group duplicates to summarize occurrences\n",
    "duplicate_summary = duplicates.groupby('DOI').agg(\n",
    "    Count=('Database', 'size'),\n",
    "    Databases=('Database', lambda x: ', '.join(x.unique())),\n",
    "    Title=('Title', 'first')  # Extract the title for the DOI\n",
    ").reset_index()\n",
    "\n",
    "# Save the results to an Excel file for review\n",
    "output_file = \"duplicate_summary_with_titles.xlsx\"\n",
    "duplicate_summary.to_excel(output_file, index=False)\n",
    "\n",
    "# Display results\n",
    "print(f\"Number of duplicate DOIs: {duplicate_summary.shape[0]}\")\n",
    "print(f\"Duplicate details saved to: {output_file}\")\n"
   ],
   "outputs": [
    {
     "name": "stdout",
     "output_type": "stream",
     "text": [
      "Number of duplicate DOIs: 85\n",
      "Duplicate details saved to: duplicate_summary_with_titles.xlsx\n"
     ]
    }
   ],
   "execution_count": 2
  },
  {
   "metadata": {
    "ExecuteTime": {
     "end_time": "2024-11-27T15:52:15.452489Z",
     "start_time": "2024-11-27T15:52:15.237741Z"
    }
   },
   "cell_type": "code",
   "source": [
    "import pandas as pd\n",
    "\n",
    "# clean up dublettes\n",
    "file_path = \"combined_results_final.xlsx\"\n",
    "df = pd.read_excel(file_path)\n",
    "\n",
    "# Remove duplicate DOIs but keep the first occurrence\n",
    "cleaned_df = df.drop_duplicates(subset='DOI', keep='first')\n",
    "\n",
    "# Save the cleaned DataFrame to a new Excel file\n",
    "output_file = \"dublette_cleaned_results_final.xlsx\"\n",
    "cleaned_df.to_excel(output_file, index=False)\n",
    "\n",
    "# Display results\n",
    "print(f\"Original number of rows: {df.shape[0]}\")\n",
    "print(f\"Number of rows after removing duplicates: {cleaned_df.shape[0]}\")\n",
    "print(f\"Cleaned file saved to: {output_file}\")\n"
   ],
   "id": "76522f0e11ff9c1f",
   "outputs": [
    {
     "name": "stdout",
     "output_type": "stream",
     "text": [
      "Original number of rows: 600\n",
      "Number of rows after removing duplicates: 490\n",
      "Cleaned file saved to: dublette_cleaned_results_final.xlsx\n"
     ]
    }
   ],
   "execution_count": 3
  },
  {
   "metadata": {},
   "cell_type": "code",
   "outputs": [],
   "execution_count": null,
   "source": "",
   "id": "4eaa7c3504d034c7"
  }
 ],
 "metadata": {
  "kernelspec": {
   "display_name": "Python 3",
   "language": "python",
   "name": "python3"
  },
  "language_info": {
   "codemirror_mode": {
    "name": "ipython",
    "version": 2
   },
   "file_extension": ".py",
   "mimetype": "text/x-python",
   "name": "python",
   "nbconvert_exporter": "python",
   "pygments_lexer": "ipython2",
   "version": "2.7.6"
  }
 },
 "nbformat": 4,
 "nbformat_minor": 5
}
