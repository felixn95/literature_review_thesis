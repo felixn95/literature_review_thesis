{
 "cells": [
  {
   "metadata": {
    "ExecuteTime": {
     "end_time": "2024-11-29T21:37:07.061650Z",
     "start_time": "2024-11-29T21:37:06.274339Z"
    }
   },
   "cell_type": "code",
   "source": [
    "import pandas as pd\n",
    "\n",
    "# Load the Excel file\n",
    "file_path = \"combined_results_doi_mapped.xlsx\"\n",
    "df = pd.read_excel(file_path)\n",
    "\n",
    "# Identify duplicates based on DOI and Title columns\n",
    "duplicates_doi = df[df.duplicated(subset='DOI', keep=False)]\n",
    "duplicates_title = df[df.duplicated(subset='Title', keep=False)]\n",
    "\n",
    "# Combine DOI and Title duplicates for a unified summary\n",
    "combined_duplicates = pd.concat([duplicates_doi, duplicates_title]).drop_duplicates()\n",
    "\n",
    "# Group duplicates to summarize occurrences\n",
    "duplicate_summary = combined_duplicates.groupby(['DOI', 'Title']).agg(\n",
    "    Count=('Database', 'size'),\n",
    "    Databases=('Database', lambda x: ', '.join(x.unique()))\n",
    ").reset_index()\n",
    "\n",
    "# Save the summary of duplicates to an Excel file\n",
    "summary_file = \"duplicate_summary_combined.xlsx\"\n",
    "duplicate_summary.to_excel(summary_file, index=False)\n",
    "\n",
    "# Remove duplicates from the original dataset (keep the first occurrence)\n",
    "df_cleaned = df.drop_duplicates(subset=['DOI', 'Title'], keep='first')\n",
    "\n",
    "# Save the cleaned dataset to an Excel file\n",
    "cleaned_file = \"combined_results_cleaned.xlsx\"\n",
    "df_cleaned.to_excel(cleaned_file, index=False)\n",
    "\n",
    "# Display results\n",
    "print(f\"Number of duplicate entries: {duplicate_summary.shape[0]}\")\n",
    "print(f\"Duplicate summary saved to: {summary_file}\")\n",
    "print(f\"Cleaned dataset saved to: {cleaned_file}\")\n"
   ],
   "id": "4eaa7c3504d034c7",
   "outputs": [
    {
     "name": "stdout",
     "output_type": "stream",
     "text": [
      "Number of duplicate entries: 158\n",
      "Duplicate summary saved to: duplicate_summary_combined.xlsx\n",
      "Cleaned dataset saved to: combined_results_cleaned.xlsx\n"
     ]
    }
   ],
   "execution_count": 6
  },
  {
   "metadata": {},
   "cell_type": "code",
   "outputs": [],
   "execution_count": null,
   "source": "",
   "id": "7954397f0160f47"
  }
 ],
 "metadata": {
  "kernelspec": {
   "display_name": "Python 3",
   "language": "python",
   "name": "python3"
  },
  "language_info": {
   "codemirror_mode": {
    "name": "ipython",
    "version": 2
   },
   "file_extension": ".py",
   "mimetype": "text/x-python",
   "name": "python",
   "nbconvert_exporter": "python",
   "pygments_lexer": "ipython2",
   "version": "2.7.6"
  }
 },
 "nbformat": 4,
 "nbformat_minor": 5
}
