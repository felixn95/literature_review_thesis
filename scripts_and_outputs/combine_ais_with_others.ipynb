{
 "cells": [
  {
   "cell_type": "code",
   "id": "initial_id",
   "metadata": {
    "collapsed": true,
    "ExecuteTime": {
     "end_time": "2024-12-05T08:00:52.567251Z",
     "start_time": "2024-12-05T08:00:51.617158Z"
    }
   },
   "source": [
    "import pandas as pd\n",
    "\n",
    "# Load the datasets\n",
    "viewed_results_file = \"viewed_results_incl_rag_maybe_relevant_v1.xlsx\"\n",
    "ais_extracted_file = \"ais_extracted.xlsx\"\n",
    "\n",
    "viewed_results = pd.read_excel(viewed_results_file)\n",
    "ais_extracted = pd.read_excel(ais_extracted_file)\n",
    "\n",
    "# Standardize column names for consistency\n",
    "viewed_results.rename(columns={\n",
    "    \"REASON\": \"Reason\",\n",
    "    \"REVIEW_STAGE\": \"Review_Stage\",\n",
    "    \"Database\": \"Database\",\n",
    "    \"DOI\": \"DOI\",\n",
    "    \"Title\": \"Title\",\n",
    "    \"Author\": \"Author\",\n",
    "    \"Year\": \"Year\",\n",
    "    \"Abstract\": \"Abstract\",\n",
    "    \"DOI_LINK\": \"DOI_Link\"\n",
    "}, inplace=True)\n",
    "\n",
    "ais_extracted.rename(columns={\n",
    "    \"REVIEW_STAGE\": \"Review_Stage\",\n",
    "    \"Database\": \"Database\",\n",
    "    \"DOI\": \"DOI\",\n",
    "    \"DOI_LINK\": \"DOI_Link\",\n",
    "    \"Title\": \"Title\",\n",
    "    \"Author\": \"Author\",\n",
    "    \"Year\": \"Year\",\n",
    "    \"Abstract\": \"Abstract\"\n",
    "}, inplace=True)\n",
    "\n",
    "# Combine datasets\n",
    "combined_df = pd.concat([viewed_results, ais_extracted], ignore_index=True)\n",
    "\n",
    "# Fill missing values with \"NOT_FOUND\"\n",
    "combined_df.fillna(\"NOT_FOUND\", inplace=True)\n",
    "\n",
    "# Standardize the REVIEW_STAGE column\n",
    "combined_df[\"Review_Stage\"] = combined_df[\"Review_Stage\"].str.upper()\n",
    "combined_df[\"Review_Stage\"] = combined_df[\"Review_Stage\"].replace({\n",
    "    \"MAYBE\": \"MAYBE_RELEVANT\",\n",
    "    \"NOT_RELEVANT\": \"NOT_RELEVANT\",\n",
    "    \"UNCHECKED\": \"NOT_RELEVANT\"\n",
    "})\n",
    "\n",
    "# Reorder columns as requested\n",
    "final_columns = [\"Review_Stage\", \"Database\", \"Title\", \"Author\", \"Year\", \"DOI\", \"DOI_Link\", \"Abstract\"]\n",
    "final_df = combined_df[final_columns]\n",
    "\n",
    "# Save to a new Excel file\n",
    "output_file = \"stage_1_results_final.xlsx\"\n",
    "final_df.to_excel(output_file, index=False)\n",
    "\n",
    "print(f\"Combined dataset saved to {output_file}\")"
   ],
   "outputs": [
    {
     "name": "stderr",
     "output_type": "stream",
     "text": [
      "C:\\Users\\FelixNeubauer\\AppData\\Local\\Temp\\ipykernel_27464\\2636995059.py:38: FutureWarning: Setting an item of incompatible dtype is deprecated and will raise an error in a future version of pandas. Value 'NOT_FOUND' has dtype incompatible with float64, please explicitly cast to a compatible dtype first.\n",
      "  combined_df.fillna(\"NOT_FOUND\", inplace=True)\n"
     ]
    },
    {
     "name": "stdout",
     "output_type": "stream",
     "text": [
      "Combined dataset saved to stage_1_results_final.xlsx\n"
     ]
    }
   ],
   "execution_count": 1
  },
  {
   "metadata": {},
   "cell_type": "code",
   "outputs": [],
   "execution_count": null,
   "source": "",
   "id": "f3d42294b03c1063"
  }
 ],
 "metadata": {
  "kernelspec": {
   "display_name": "Python 3",
   "language": "python",
   "name": "python3"
  },
  "language_info": {
   "codemirror_mode": {
    "name": "ipython",
    "version": 2
   },
   "file_extension": ".py",
   "mimetype": "text/x-python",
   "name": "python",
   "nbconvert_exporter": "python",
   "pygments_lexer": "ipython2",
   "version": "2.7.6"
  }
 },
 "nbformat": 4,
 "nbformat_minor": 5
}
