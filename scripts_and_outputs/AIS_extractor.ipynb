{
 "cells": [
  {
   "cell_type": "code",
   "id": "initial_id",
   "metadata": {
    "collapsed": true,
    "ExecuteTime": {
     "end_time": "2024-12-05T07:13:35.033353Z",
     "start_time": "2024-12-05T07:13:34.036822Z"
    }
   },
   "source": [
    "import pandas as pd\n",
    "import json\n",
    "import glob\n",
    "import re\n",
    "\n",
    "# Constants\n",
    "STANDARD_COLUMNS = ['REVIEW_STAGE', 'Database', 'DOI', 'DOI_LINK', 'Title', 'Author', 'Year', 'Abstract']\n",
    "NOT_FOUND_VALUE = 'NOT_FOUND'\n",
    "DEFAULT_REVIEW_STAGE = 'unchecked'\n",
    "\n",
    "# Function to extract the year from publication_date\n",
    "def extract_year(publication_date):\n",
    "    if publication_date:\n",
    "        match = re.search(r'\\b\\d{4}\\b', str(publication_date))\n",
    "        if match:\n",
    "            return match.group()\n",
    "    return NOT_FOUND_VALUE\n",
    "\n",
    "# Function to process each document in the JSON\n",
    "def process_document(doc):\n",
    "    record = {}\n",
    "    record['Database'] = 'AIS'\n",
    "    record['REVIEW_STAGE'] = DEFAULT_REVIEW_STAGE\n",
    "    record['DOI'] = doc.get('publication_link', NOT_FOUND_VALUE)\n",
    "    record['DOI_LINK'] = doc.get('url', NOT_FOUND_VALUE)\n",
    "    record['Title'] = doc.get('title', NOT_FOUND_VALUE)\n",
    "    \n",
    "    # Process 'Author' field\n",
    "    authors = doc.get('author', [])\n",
    "    if authors:\n",
    "        record['Author'] = '; '.join(authors)\n",
    "    else:\n",
    "        record['Author'] = NOT_FOUND_VALUE\n",
    "    \n",
    "    # Extract 'Year' from 'publication_date'\n",
    "    publication_date = doc.get('publication_date', '')\n",
    "    record['Year'] = extract_year(publication_date)\n",
    "    \n",
    "    # 'Abstract' may not be present; set to 'NOT_FOUND'\n",
    "    record['Abstract'] = NOT_FOUND_VALUE  # Assuming 'Abstract' is not available in the JSON\n",
    "    \n",
    "    return record\n",
    "\n"
   ],
   "outputs": [],
   "execution_count": 1
  },
  {
   "metadata": {
    "ExecuteTime": {
     "end_time": "2024-12-05T07:14:10.870312Z",
     "start_time": "2024-12-05T07:14:10.573724Z"
    }
   },
   "cell_type": "code",
   "source": [
    "# Read the existing Excel file\n",
    "#combined_df = pd.read_excel('combined_results_cleaned.xlsx')\n",
    "\n",
    "# List of JSON files to process (adjust the pattern as needed)\n",
    "json_files = glob.glob('results_review_incl_RAG/ais_*.json')\n",
    "\n",
    "# List to store processed records\n",
    "new_records = []\n",
    "\n",
    "# Process each JSON file\n",
    "for json_file in json_files:\n",
    "    print(f\"Processing {json_file}\")\n",
    "    with open(json_file, 'r', encoding='utf-8') as f:\n",
    "        data = json.load(f)\n",
    "        docs = data.get('docs', [])\n",
    "        for doc in docs:\n",
    "            record = process_document(doc)\n",
    "            new_records.append(record)\n",
    "\n",
    "# Create a DataFrame from the new records\n",
    "if new_records:\n",
    "    new_df = pd.DataFrame(new_records, columns=STANDARD_COLUMNS)\n",
    "    \n",
    "    # Save the updated DataFrame back to the Excel file\n",
    "    new_df.to_excel('ais_extracted.xlsx', index=False)\n",
    "    print(\"New records added to ais_extracted.xlsx\")\n",
    "else:\n",
    "    print(\"No new records to add.\")"
   ],
   "id": "5cf7e58aed062351",
   "outputs": [
    {
     "name": "stdout",
     "output_type": "stream",
     "text": [
      "Processing results_review_incl_RAG\\ais_1.json\n",
      "Processing results_review_incl_RAG\\ais_2.json\n",
      "Processing results_review_incl_RAG\\ais_3.json\n",
      "Processing results_review_incl_RAG\\ais_4.json\n",
      "Processing results_review_incl_RAG\\ais_5.json\n",
      "New records added to ais_extracted.xlsx\n"
     ]
    }
   ],
   "execution_count": 2
  },
  {
   "metadata": {},
   "cell_type": "code",
   "outputs": [],
   "execution_count": null,
   "source": "",
   "id": "4911b23fc37f5c66"
  }
 ],
 "metadata": {
  "kernelspec": {
   "display_name": "Python 3",
   "language": "python",
   "name": "python3"
  },
  "language_info": {
   "codemirror_mode": {
    "name": "ipython",
    "version": 2
   },
   "file_extension": ".py",
   "mimetype": "text/x-python",
   "name": "python",
   "nbconvert_exporter": "python",
   "pygments_lexer": "ipython2",
   "version": "2.7.6"
  }
 },
 "nbformat": 4,
 "nbformat_minor": 5
}
