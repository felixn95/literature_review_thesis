{
 "cells": [
  {
   "cell_type": "code",
   "id": "initial_id",
   "metadata": {
    "collapsed": true,
    "ExecuteTime": {
     "end_time": "2024-11-29T21:25:32.243110Z",
     "start_time": "2024-11-29T21:25:31.606889Z"
    }
   },
   "source": [
    "import pandas as pd\n",
    "import re\n",
    "\n",
    "# Read the existing Excel file\n",
    "df = pd.read_excel('combined_results.xlsx')\n",
    "\n",
    "# Ensure 'DOI_LINK' column exists; initialize with 'NOT_FOUND' for all entries\n",
    "if 'DOI_LINK' not in df.columns:\n",
    "    df['DOI_LINK'] = 'NOT_FOUND'\n",
    "\n",
    "# Condition to select rows from ScienceDirect\n",
    "condition = df['Database'] == 'ScienceDirect'\n",
    "\n",
    "# Regex pattern to extract DOIs\n",
    "doi_pattern = r\"10\\.\\d{4,9}/[^\\s]+\"\n",
    "\n",
    "# Function to extract DOI from URL\n",
    "def extract_doi(url):\n",
    "    match = re.search(doi_pattern, str(url))\n",
    "    if match:\n",
    "        return match.group()\n",
    "    else:\n",
    "        return 'NOT_FOUND'\n",
    "\n",
    "# Process entries from ScienceDirect\n",
    "# Move the DOI URL to 'DOI_LINK' and extract the DOI into 'DOI'\n",
    "df.loc[condition, 'DOI_LINK'] = df.loc[condition, 'DOI']\n",
    "df.loc[condition, 'DOI'] = df.loc[condition, 'DOI'].apply(extract_doi)\n",
    "\n",
    "# Reorder columns to place 'REVIEW_STAGE' at the first position\n",
    "columns = df.columns.tolist()\n",
    "if 'REVIEW_STAGE' in columns:\n",
    "    columns.insert(0, columns.pop(columns.index('REVIEW_STAGE')))\n",
    "    df = df[columns]\n",
    "else:\n",
    "    print(\"'REVIEW_STAGE' column not found in the DataFrame.\")\n",
    "\n",
    "# Save the modified DataFrame back to the Excel file\n",
    "df.to_excel('combined_results_doi_mapped.xlsx', index=False)\n"
   ],
   "outputs": [],
   "execution_count": 2
  },
  {
   "metadata": {},
   "cell_type": "code",
   "outputs": [],
   "execution_count": null,
   "source": "",
   "id": "86a295337de1d103"
  }
 ],
 "metadata": {
  "kernelspec": {
   "display_name": "Python 3",
   "language": "python",
   "name": "python3"
  },
  "language_info": {
   "codemirror_mode": {
    "name": "ipython",
    "version": 2
   },
   "file_extension": ".py",
   "mimetype": "text/x-python",
   "name": "python",
   "nbconvert_exporter": "python",
   "pygments_lexer": "ipython2",
   "version": "2.7.6"
  }
 },
 "nbformat": 4,
 "nbformat_minor": 5
}
