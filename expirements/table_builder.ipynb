{
 "cells": [
  {
   "cell_type": "code",
   "id": "initial_id",
   "metadata": {
    "collapsed": true,
    "ExecuteTime": {
     "end_time": "2025-01-11T17:39:00.557709Z",
     "start_time": "2025-01-11T17:39:00.470921Z"
    }
   },
   "source": [
    "from docx import Document\n",
    "import pandas as pd\n",
    "\n",
    "# Load the Word document\n",
    "doc = Document(\"C:/Users/FelixNeubauer/Downloads/Paper.docx\")  # Replace with your Word file path\n",
    "\n",
    "# Extract the table (assuming the first table is the one you want)\n",
    "table = doc.tables[0]\n",
    "\n",
    "# Initialize lists to store the data\n",
    "columns = []  # Store column headers\n",
    "data = []  # Store rows of data\n",
    "\n",
    "# Extract column headers\n",
    "for cell in table.rows[0].cells:\n",
    "    columns.append(cell.text.strip())\n",
    "\n",
    "# Extract the data for each row\n",
    "for row in table.rows[1:]:\n",
    "    row_data = []\n",
    "    for cell in row.cells:\n",
    "        # Append cell content, keeping line breaks intact\n",
    "        row_data.append(cell.text.strip())\n",
    "    data.append(row_data)\n",
    "\n",
    "# Create a pandas DataFrame\n",
    "df = pd.DataFrame(data, columns=columns)\n",
    "\n",
    "# Save to Excel\n",
    "output_file = \"req_matches.xlsx\"  # Define your output file name\n",
    "df.to_excel(output_file, index=False)\n",
    "\n",
    "print(f\"Table successfully extracted and saved to {output_file}\")\n"
   ],
   "outputs": [
    {
     "name": "stdout",
     "output_type": "stream",
     "text": [
      "Table successfully extracted and saved to req_matches.xlsx\n"
     ]
    }
   ],
   "execution_count": 4
  },
  {
   "metadata": {},
   "cell_type": "code",
   "outputs": [],
   "execution_count": null,
   "source": "",
   "id": "7038176eef245d47"
  }
 ],
 "metadata": {
  "kernelspec": {
   "display_name": "Python 3",
   "language": "python",
   "name": "python3"
  },
  "language_info": {
   "codemirror_mode": {
    "name": "ipython",
    "version": 2
   },
   "file_extension": ".py",
   "mimetype": "text/x-python",
   "name": "python",
   "nbconvert_exporter": "python",
   "pygments_lexer": "ipython2",
   "version": "2.7.6"
  }
 },
 "nbformat": 4,
 "nbformat_minor": 5
}
